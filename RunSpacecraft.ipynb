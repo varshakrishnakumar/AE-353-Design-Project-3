{
 "cells": [
  {
   "cell_type": "markdown",
   "id": "middle-acoustic",
   "metadata": {},
   "source": [
    "# Spacecraft with reaction wheels and star tracker"
   ]
  },
  {
   "cell_type": "markdown",
   "id": "working-minority",
   "metadata": {},
   "source": [
    "Import modules and configure the notebook."
   ]
  },
  {
   "cell_type": "code",
   "execution_count": null,
   "id": "informed-qatar",
   "metadata": {},
   "outputs": [],
   "source": [
    "# Standard modules\n",
    "import time\n",
    "import numpy as np\n",
    "import matplotlib.pyplot as plt\n",
    "\n",
    "# My own script (an interface to the simulator)\n",
    "import ae353_spacecraft"
   ]
  },
  {
   "cell_type": "markdown",
   "id": "nominated-instrument",
   "metadata": {},
   "source": [
    "## Dynamic model"
   ]
  },
  {
   "cell_type": "markdown",
   "id": "sticky-outreach",
   "metadata": {},
   "source": [
    "Specify the physical parameters:"
   ]
  },
  {
   "cell_type": "code",
   "execution_count": null,
   "id": "missing-tobago",
   "metadata": {},
   "outputs": [],
   "source": [
    "# Mass and MOI of base\n",
    "mb = 6.\n",
    "Jxb = 10.\n",
    "Jyb = 10.\n",
    "Jzb = 16.\n",
    "\n",
    "# Mass and MOI of each wheel\n",
    "mw = 1.\n",
    "Jxw = 0.075\n",
    "Jyw = 0.075\n",
    "Jzw = 0.125\n",
    "lw = 1.1"
   ]
  },
  {
   "cell_type": "markdown",
   "id": "following-implementation",
   "metadata": {},
   "source": [
    "Derive the equations of motion:"
   ]
  },
  {
   "cell_type": "code",
   "execution_count": null,
   "id": "fixed-developer",
   "metadata": {},
   "outputs": [],
   "source": [
    "# Define yaw, pitch, roll yaw angles\n",
    "psi, theta, phi = sym.symbols('psi, theta, phi')\n",
    "\n",
    "# Define angular velocities\n",
    "w_x, w_y, w_z = sym.symbols('w_x, w_y, w_z')\n",
    "\n",
    "# Define torques\n",
    "tau_1, tau_2, tau_3, tau_4 = sym.symbols('tau_1, tau_2, tau_3, tau_4')\n",
    "\n",
    "# Compute resultant torques\n",
    "lt = sym.nsimplify(lw) * sym.sqrt(2) / 2\n",
    "T1 = - tau_1 * sym.Matrix([[lt], [0], [lt]])\n",
    "T2 = - tau_2 * sym.Matrix([[-lt], [0], [lt]])\n",
    "T3 = - tau_3 * sym.Matrix([[0], [lt], [lt]])\n",
    "T4 = - tau_4 * sym.Matrix([[0], [-lt], [lt]])\n",
    "T = T1 + T2 + T3 + T4\n",
    "\n",
    "# Define MOI of spacecraft and wheels together\n",
    "Jx = sym.nsimplify(Jxb + 4 * mw * lw**2)\n",
    "Jy = sym.nsimplify(Jyb + 4 * mw * lw**2)\n",
    "Jz = sym.nsimplify(Jzb + 4 * mw * lw**2)\n",
    "\n",
    "# Define rotation matrices\n",
    "Rz = sym.Matrix([[sym.cos(psi), -sym.sin(psi), 0], [sym.sin(psi), sym.cos(psi), 0], [0, 0, 1]])\n",
    "Ry = sym.Matrix([[sym.cos(theta), 0, sym.sin(theta)], [0, 1, 0], [-sym.sin(theta), 0, sym.cos(theta)]])\n",
    "Rx = sym.Matrix([[1, 0, 0], [0, sym.cos(phi), -sym.sin(phi)], [0, sym.sin(phi), sym.cos(phi)]])\n",
    "\n",
    "# Define the transformation from angular velocity to angular rates\n",
    "ex = sym.Matrix([[1], [0], [0]])\n",
    "ey = sym.Matrix([[0], [1], [0]])\n",
    "ez = sym.Matrix([[0], [0], [1]])\n",
    "M = sym.simplify(sym.Matrix.hstack((Ry @ Rx).T @ ez, Rx.T @ ey, ex).inv(), full=True)\n",
    "\n",
    "# Define euler's equations\n",
    "euler = sym.Matrix([[(1 / Jx) * (T[0] + (Jy - Jz) * w_y * w_z)],\n",
    "                   [(1 / Jy) * (T[1] + (Jz - Jx) * w_z * w_x)],\n",
    "                   [(1 / Jz) * (T[2] + (Jx - Jy) * w_x * w_y)]])\n",
    "\n",
    "# Define equations of motion\n",
    "f = sym.simplify(sym.Matrix.vstack(M * sym.Matrix([[w_x], [w_y], [w_z]]), euler), full=True)"
   ]
  },
  {
   "cell_type": "markdown",
   "id": "according-occasion",
   "metadata": {},
   "source": [
    "The equations of motion have this form:\n",
    "\n",
    "$$\\begin{bmatrix} \\dot{\\psi} \\\\ \\dot{\\theta} \\\\ \\dot{\\phi} \\\\ \\dot{w_x} \\\\ \\dot{w_y} \\\\ \\dot{w_z} \\end{bmatrix} = f\\left(\\psi, \\theta, \\phi, w_x, w_y, w_z, \\tau_1, \\tau_2, \\tau_3, \\tau_4\\right)$$\n",
    "\n",
    "Here is the function $f$:"
   ]
  },
  {
   "cell_type": "code",
   "execution_count": null,
   "id": "welsh-passion",
   "metadata": {},
   "outputs": [
    {
     "data": {
      "text/latex": [
       "$\\displaystyle \\left[\\begin{matrix}\\frac{w_{y} \\sin{\\left(\\phi \\right)} + w_{z} \\cos{\\left(\\phi \\right)}}{\\cos{\\left(\\theta \\right)}}\\\\w_{y} \\cos{\\left(\\phi \\right)} - w_{z} \\sin{\\left(\\phi \\right)}\\\\w_{x} + w_{y} \\sin{\\left(\\phi \\right)} \\tan{\\left(\\theta \\right)} + w_{z} \\cos{\\left(\\phi \\right)} \\tan{\\left(\\theta \\right)}\\\\- \\frac{55 \\sqrt{2} \\tau_{1}}{1484} + \\frac{55 \\sqrt{2} \\tau_{2}}{1484} - \\frac{150 w_{y} w_{z}}{371}\\\\- \\frac{55 \\sqrt{2} \\tau_{3}}{1484} + \\frac{55 \\sqrt{2} \\tau_{4}}{1484} + \\frac{150 w_{x} w_{z}}{371}\\\\- \\frac{55 \\sqrt{2} \\left(\\tau_{1} + \\tau_{2} + \\tau_{3} + \\tau_{4}\\right)}{2084}\\end{matrix}\\right]$"
      ],
      "text/plain": [
       "Matrix([\n",
       "[                        (w_y*sin(phi) + w_z*cos(phi))/cos(theta)],\n",
       "[                                     w_y*cos(phi) - w_z*sin(phi)],\n",
       "[         w_x + w_y*sin(phi)*tan(theta) + w_z*cos(phi)*tan(theta)],\n",
       "[-55*sqrt(2)*tau_1/1484 + 55*sqrt(2)*tau_2/1484 - 150*w_y*w_z/371],\n",
       "[-55*sqrt(2)*tau_3/1484 + 55*sqrt(2)*tau_4/1484 + 150*w_x*w_z/371],\n",
       "[                -55*sqrt(2)*(tau_1 + tau_2 + tau_3 + tau_4)/2084]])"
      ]
     },
     "metadata": {},
     "output_type": "display_data"
    }
   ],
   "source": [
    "f"
   ]
  },
  {
   "cell_type": "markdown",
   "id": "cultural-penalty",
   "metadata": {},
   "source": [
    "## Sensor model"
   ]
  },
  {
   "cell_type": "markdown",
   "id": "tested-graham",
   "metadata": {},
   "source": [
    "Symbolic variables for right ascension $\\alpha$ and declination $\\delta$ of each star:"
   ]
  },
  {
   "cell_type": "code",
   "execution_count": null,
   "id": "historic-ending",
   "metadata": {},
   "outputs": [],
   "source": [
    "alpha, delta = sym.symbols('alpha, delta')"
   ]
  },
  {
   "cell_type": "markdown",
   "id": "common-reputation",
   "metadata": {},
   "source": [
    "Specify the physical parameters:"
   ]
  },
  {
   "cell_type": "code",
   "execution_count": null,
   "id": "second-slave",
   "metadata": {},
   "outputs": [],
   "source": [
    "# Scope radius\n",
    "r = 0.8 / 2.1"
   ]
  },
  {
   "cell_type": "markdown",
   "id": "polish-burning",
   "metadata": {},
   "source": [
    "Derive the sensor model:"
   ]
  },
  {
   "cell_type": "code",
   "execution_count": null,
   "id": "diagnostic-authority",
   "metadata": {},
   "outputs": [],
   "source": [
    "# Position of star in space frame\n",
    "p_star_in_space = sym.Matrix([[sym.cos(alpha) * sym.cos(delta)],\n",
    "                              [sym.sin(alpha) * sym.cos(delta)],\n",
    "                              [sym.sin(delta)]])\n",
    "\n",
    "# Orientation of body frame in space frame\n",
    "R_body_in_space = Rz * Ry * Rx\n",
    "\n",
    "# Position of star in body frame (assuming origin of body and space frames are the same)\n",
    "p_star_in_body = R_body_in_space.T * p_star_in_space\n",
    "\n",
    "# Position of star in image frame\n",
    "p_star_in_image = (1 / sym.nsimplify(r)) * sym.Matrix([[p_star_in_body[1] / p_star_in_body[0]],\n",
    "                                                       [p_star_in_body[2] / p_star_in_body[0]]])\n",
    "\n",
    "# Sensor model for each star\n",
    "g = sym.simplify(p_star_in_image, full=True)"
   ]
  },
  {
   "cell_type": "markdown",
   "id": "continuing-reference",
   "metadata": {},
   "source": [
    "The sensor model has this form for each star:\n",
    "\n",
    "$$\\zeta = g(\\psi, \\theta, \\phi, \\alpha, \\delta)$$\n",
    "\n",
    "Here is the function $g$:"
   ]
  },
  {
   "cell_type": "code",
   "execution_count": null,
   "id": "protected-orlando",
   "metadata": {},
   "outputs": [
    {
     "data": {
      "text/latex": [
       "$\\displaystyle \\left[\\begin{matrix}\\frac{21 \\left(\\sin{\\left(\\delta \\right)} \\sin{\\left(\\phi \\right)} \\cos{\\left(\\theta \\right)} + \\sin{\\left(\\phi \\right)} \\sin{\\left(\\theta \\right)} \\cos{\\left(\\delta \\right)} \\cos{\\left(\\alpha - \\psi \\right)} + \\sin{\\left(\\alpha - \\psi \\right)} \\cos{\\left(\\delta \\right)} \\cos{\\left(\\phi \\right)}\\right)}{8 \\left(- \\sin{\\left(\\delta \\right)} \\sin{\\left(\\theta \\right)} + \\cos{\\left(\\delta \\right)} \\cos{\\left(\\theta \\right)} \\cos{\\left(\\alpha - \\psi \\right)}\\right)}\\\\\\frac{21 \\left(\\sin{\\left(\\delta \\right)} \\cos{\\left(\\phi \\right)} \\cos{\\left(\\theta \\right)} - \\sin{\\left(\\phi \\right)} \\sin{\\left(\\alpha - \\psi \\right)} \\cos{\\left(\\delta \\right)} + \\sin{\\left(\\theta \\right)} \\cos{\\left(\\delta \\right)} \\cos{\\left(\\phi \\right)} \\cos{\\left(\\alpha - \\psi \\right)}\\right)}{8 \\left(- \\sin{\\left(\\delta \\right)} \\sin{\\left(\\theta \\right)} + \\cos{\\left(\\delta \\right)} \\cos{\\left(\\theta \\right)} \\cos{\\left(\\alpha - \\psi \\right)}\\right)}\\end{matrix}\\right]$"
      ],
      "text/plain": [
       "Matrix([\n",
       "[21*(sin(delta)*sin(phi)*cos(theta) + sin(phi)*sin(theta)*cos(delta)*cos(alpha - psi) + sin(alpha - psi)*cos(delta)*cos(phi))/(8*(-sin(delta)*sin(theta) + cos(delta)*cos(theta)*cos(alpha - psi)))],\n",
       "[21*(sin(delta)*cos(phi)*cos(theta) - sin(phi)*sin(alpha - psi)*cos(delta) + sin(theta)*cos(delta)*cos(phi)*cos(alpha - psi))/(8*(-sin(delta)*sin(theta) + cos(delta)*cos(theta)*cos(alpha - psi)))]])"
      ]
     },
     "metadata": {},
     "output_type": "display_data"
    }
   ],
   "source": [
    "g"
   ]
  },
  {
   "cell_type": "code",
   "execution_count": null,
   "id": "51de0772",
   "metadata": {},
   "outputs": [],
   "source": [
    "np.set_printoptions(suppress=True)\n",
    "f_num = sym.lambdify([psi, theta, phi, w_x, w_y, w_z, tau_1, tau_2, tau_3, tau_4], f)\n",
    "\n",
    "psi_e = 0\n",
    "theta_e = 0\n",
    "phi_e = 0\n",
    "w_x_e = 0\n",
    "w_y_e = 0\n",
    "w_z_e = 0\n",
    "tau_1_e = 0\n",
    "tau_2_e = 0\n",
    "tau_3_e = 0\n",
    "tau_4_e = 0"
   ]
  },
  {
   "cell_type": "code",
   "execution_count": null,
   "id": "50954e7e",
   "metadata": {},
   "outputs": [
    {
     "name": "stdout",
     "output_type": "stream",
     "text": [
      "[[ 0.]\n",
      " [ 0.]\n",
      " [ 0.]\n",
      " [ 0.]\n",
      " [ 0.]\n",
      " [-0.]]\n"
     ]
    }
   ],
   "source": [
    "print(f_num(psi_e, theta_e, phi_e, w_x_e, w_y_e, w_z_e, tau_1_e, tau_2_e, tau_3_e, tau_4_e))"
   ]
  },
  {
   "cell_type": "code",
   "execution_count": null,
   "id": "c5d90e79",
   "metadata": {},
   "outputs": [],
   "source": [
    "A_num = sym.lambdify([psi, theta, phi, w_x, w_y, w_z, tau_1, tau_2, tau_3, tau_4], f.jacobian([psi, theta, phi, w_x, w_y, w_z]))\n",
    "A = A_num(psi_e, theta_e, phi_e, w_x_e, w_y_e, w_z_e, tau_1_e, tau_2_e, tau_3_e, tau_4_e)\n",
    "\n",
    "B_num = sym.lambdify([psi, theta, phi, w_x, w_y, w_z, tau_1, tau_2, tau_3, tau_4], f.jacobian([tau_1, tau_2, tau_3, tau_4]))\n",
    "B = B_num(psi_e, theta_e, phi_e, w_x_e, w_y_e, w_z_e, tau_1_e, tau_2_e, tau_3_e, tau_4_e)"
   ]
  },
  {
   "cell_type": "code",
   "execution_count": null,
   "id": "de50a899",
   "metadata": {},
   "outputs": [
    {
     "name": "stdout",
     "output_type": "stream",
     "text": [
      "A Matrix:\n",
      "[[ 0.  0.  0.  0.  0.  1.]\n",
      " [ 0.  0.  0.  0.  1. -0.]\n",
      " [ 0.  0.  0.  1.  0.  0.]\n",
      " [ 0.  0.  0.  0. -0. -0.]\n",
      " [ 0.  0.  0.  0.  0.  0.]\n",
      " [ 0.  0.  0.  0.  0.  0.]]\n",
      "B Matrix:\n",
      "[[ 0.          0.          0.          0.        ]\n",
      " [ 0.          0.          0.          0.        ]\n",
      " [ 0.          0.          0.          0.        ]\n",
      " [-0.05241358  0.05241358  0.          0.        ]\n",
      " [ 0.          0.         -0.05241358  0.05241358]\n",
      " [-0.03732329 -0.03732329 -0.03732329 -0.03732329]]\n"
     ]
    }
   ],
   "source": [
    "print('A Matrix:')\n",
    "print(A)\n",
    "print('B Matrix:')\n",
    "print(B)"
   ]
  },
  {
   "cell_type": "code",
   "execution_count": null,
   "id": "231e73d8",
   "metadata": {},
   "outputs": [
    {
     "name": "stdout",
     "output_type": "stream",
     "text": [
      "W Matrix:\n",
      "[[ 0.          0.          0.          0.         -0.03732329 -0.03732329\n",
      "  -0.03732329 -0.03732329  0.          0.          0.          0.\n",
      "   0.          0.          0.          0.          0.          0.\n",
      "   0.          0.          0.          0.          0.          0.        ]\n",
      " [ 0.          0.          0.          0.          0.          0.\n",
      "  -0.05241358  0.05241358  0.          0.          0.          0.\n",
      "   0.          0.          0.          0.          0.          0.\n",
      "   0.          0.          0.          0.          0.          0.        ]\n",
      " [ 0.          0.          0.          0.         -0.05241358  0.05241358\n",
      "   0.          0.          0.          0.          0.          0.\n",
      "   0.          0.          0.          0.          0.          0.\n",
      "   0.          0.          0.          0.          0.          0.        ]\n",
      " [-0.05241358  0.05241358  0.          0.          0.          0.\n",
      "   0.          0.          0.          0.          0.          0.\n",
      "   0.          0.          0.          0.          0.          0.\n",
      "   0.          0.          0.          0.          0.          0.        ]\n",
      " [ 0.          0.         -0.05241358  0.05241358  0.          0.\n",
      "   0.          0.          0.          0.          0.          0.\n",
      "   0.          0.          0.          0.          0.          0.\n",
      "   0.          0.          0.          0.          0.          0.        ]\n",
      " [-0.03732329 -0.03732329 -0.03732329 -0.03732329  0.          0.\n",
      "   0.          0.          0.          0.          0.          0.\n",
      "   0.          0.          0.          0.          0.          0.\n",
      "   0.          0.          0.          0.          0.          0.        ]]\n",
      "Rank:\n",
      "6\n"
     ]
    }
   ],
   "source": [
    "n = A.shape[0]\n",
    "\n",
    "W = B\n",
    "\n",
    "for i in range(1, n):\n",
    "    col = np.linalg.matrix_power(A, i) @ B\n",
    "    W = np.block([W, col])\n",
    "\n",
    "r = np.linalg.matrix_rank(W)\n",
    "print('W Matrix:')\n",
    "print(W)\n",
    "print('Rank:')\n",
    "print(r)"
   ]
  },
  {
   "cell_type": "markdown",
   "id": "ce9c18b3",
   "metadata": {},
   "source": [
    "Create an instance of the `Simulator` class, which is an interface to the [pybullet](http://pybullet.org) simulation engine.\n",
    "\n",
    "Here are two optional arguments you may want to use:\n",
    "\n",
    "* `display` (`True` or `False`) is whether or not to show the simulation window;\n",
    "* `seed` (an integer, default `None`) is a seed to initialize the random number generator used by the simulator.\n",
    "\n",
    "**You must evaluate this cell only *once*.** If you want to start fresh with a new simulator, you must do `Kernel -> Restart` from the notebook menu first. If you evaluate this cell more than once without a call to `Kernel -> Restart` then you may get strange behavior that is hard to debug."
   ]
  },
  {
   "cell_type": "code",
   "execution_count": null,
   "id": "3b78dbdb",
   "metadata": {},
   "outputs": [],
   "source": [
    "simulator = ae353_spacecraft.Simulator(\n",
    "    display=False,\n",
    "    seed=None,\n",
    ")"
   ]
  },
  {
   "cell_type": "markdown",
   "id": "d18d857d",
   "metadata": {},
   "source": [
    "Here is how to find the location of each star:"
   ]
  },
  {
   "cell_type": "code",
   "execution_count": null,
   "id": "5c15c38f",
   "metadata": {},
   "outputs": [],
   "source": [
    "for (i, star) in enumerate(simulator.stars):\n",
    "    print(f'star {i} : alpha = {star[\"alpha\"]:5.2f} : delta = {star[\"delta\"]:5.2f}')"
   ]
  },
  {
   "cell_type": "markdown",
   "id": "3f9ebffb",
   "metadata": {},
   "source": [
    "Define a controller that maps sensor measurements to actuator commands. By default, it applies zero torque to each reaction wheel. Modify the `run` function to make the controller behave differently."
   ]
  },
  {
   "cell_type": "code",
   "execution_count": null,
   "id": "bf439d71",
   "metadata": {},
   "outputs": [],
   "source": [
    "class Controller:\n",
    "    def __init__(self):\n",
    "        pass\n",
    "    \n",
    "    def reset(self):\n",
    "        pass\n",
    "    \n",
    "    def run(self, t, star_meas):\n",
    "        \"\"\"\n",
    "        star_meas is a 1d array of length 14 - the image coordinates\n",
    "        y_i and z_i of the i'th star (for i = 0, ..., 6) are at index\n",
    "        2*i and 2*i+1 of this array, respectively\n",
    "        \"\"\"\n",
    "        \n",
    "        # FIXME: replace the following lines\n",
    "        front_torque = 0.\n",
    "        back_torque = 0.\n",
    "        left_torque = 0.\n",
    "        right_torque = 0.\n",
    "        \n",
    "        \n",
    "        return front_torque, back_torque, left_torque, right_torque"
   ]
  },
  {
   "cell_type": "markdown",
   "id": "40059b98",
   "metadata": {},
   "source": [
    "Create an instance of the controller."
   ]
  },
  {
   "cell_type": "code",
   "execution_count": null,
   "id": "1168ff65",
   "metadata": {},
   "outputs": [],
   "source": [
    "controller = Controller()"
   ]
  },
  {
   "cell_type": "markdown",
   "id": "19c52b8d",
   "metadata": {},
   "source": [
    "You could reset the simulator with given initial conditions, optionally specifying scope noise (default is `0.1`), i.e., the standard deviation of the $y$ and $z$ components of each star tracker measurement."
   ]
  },
  {
   "cell_type": "code",
   "execution_count": null,
   "id": "e9fc6510",
   "metadata": {},
   "outputs": [],
   "source": [
    "simulator.reset(\n",
    "    orientation={\n",
    "        'yaw': 0.,\n",
    "        'pitch': 0.,\n",
    "        'roll': 0.,\n",
    "    },\n",
    "    angular_velocity={\n",
    "        'x': 0.,\n",
    "        'y': 0.,\n",
    "        'z': 0.,\n",
    "    },\n",
    "    scope_noise=0.1,\n",
    ")"
   ]
  },
  {
   "cell_type": "markdown",
   "id": "f1d2b678",
   "metadata": {},
   "source": [
    "Or, you could reset the simulator with initial conditions sampled at random."
   ]
  },
  {
   "cell_type": "code",
   "execution_count": null,
   "id": "a41e26a0",
   "metadata": {},
   "outputs": [],
   "source": [
    "simulator.reset(\n",
    "    orientation=None,\n",
    "    angular_velocity=None,\n",
    "    scope_noise=0.1,\n",
    ")"
   ]
  },
  {
   "cell_type": "markdown",
   "id": "a0c7b67a",
   "metadata": {},
   "source": [
    "Reset the controller."
   ]
  },
  {
   "cell_type": "code",
   "execution_count": null,
   "id": "d169e3c4",
   "metadata": {},
   "outputs": [],
   "source": [
    "controller.reset()"
   ]
  },
  {
   "cell_type": "markdown",
   "id": "5cb3dacd",
   "metadata": {},
   "source": [
    "Run the simulator. It will quit when one of the following conditions is satisfied:\n",
    "\n",
    "* Any star goes out of view of the scope.\n",
    "* Any reaction wheel has angular velocity exceeding +/- 50 rad/s.\n",
    "* The maximum time is reached."
   ]
  },
  {
   "cell_type": "code",
   "execution_count": null,
   "id": "8e649e63",
   "metadata": {},
   "outputs": [],
   "source": [
    "data = simulator.run(\n",
    "    controller,           # <-- required (an instance of your Controller class)\n",
    "    max_time=5.0,         # <-- optional (how long you want to run the simulation in seconds)\n",
    "    data_filename=None,   # <-- optional (name of file to which you want data saved, e.g., 'my_data.json')\n",
    "    video_filename=None,  # <-- optional (name of file to which you want video saved, e.g., 'my_video.mov')\n",
    "    print_debug=False,    # <-- optional (whether to print debug text - this is recommended when saving video)\n",
    ")"
   ]
  },
  {
   "cell_type": "markdown",
   "id": "c3e2d2d7",
   "metadata": {},
   "source": [
    "Get, show, and save a snapshot of the simulation after the last time step."
   ]
  },
  {
   "cell_type": "code",
   "execution_count": null,
   "id": "7657f10b",
   "metadata": {},
   "outputs": [],
   "source": [
    "# Get snapshot as height x width x 4 numpy array of RGBA values\n",
    "rgba = simulator.snapshot()\n",
    "\n",
    "# Display snapshot\n",
    "plt.figure(figsize=(8, 8))\n",
    "plt.imshow(rgba)\n",
    "\n",
    "# Save snapshot\n",
    "plt.imsave('my_snapshot.png', rgba)"
   ]
  },
  {
   "cell_type": "markdown",
   "id": "38a9c4a6",
   "metadata": {},
   "source": [
    "Plot the results."
   ]
  },
  {
   "cell_type": "code",
   "execution_count": null,
   "id": "0cce775b",
   "metadata": {},
   "outputs": [],
   "source": [
    "# Create a figure with three subplots, all of which share the same x-axis\n",
    "fig, (ax_ori, ax_vel, ax_rwvel, ax_rwtau) = plt.subplots(4, 1, figsize=(10, 10), sharex=True)\n",
    "\n",
    "# Plot yaw, pitch, roll angles\n",
    "ax_ori.plot(data['t'], data['yaw'], label='yaw (rad)', linewidth=4)\n",
    "ax_ori.plot(data['t'], data['pitch'], label='pitch (rad)', linewidth=4)\n",
    "ax_ori.plot(data['t'], data['roll'], label='roll (rad)', linewidth=4)\n",
    "ax_ori.grid()\n",
    "ax_ori.legend(fontsize=16, ncol=3, loc='upper right')\n",
    "ax_ori.tick_params(labelsize=14)\n",
    "\n",
    "# Plot x, y, z components of angular velocity\n",
    "ax_vel.plot(data['t'], data['w_x'], label=r'$w_x$ (rad/s)', linewidth=4)\n",
    "ax_vel.plot(data['t'], data['w_y'], label=r'$w_y$ (rad/s)', linewidth=4)\n",
    "ax_vel.plot(data['t'], data['w_z'], label=r'$w_z$ (rad/s)', linewidth=4)\n",
    "ax_vel.grid()\n",
    "ax_vel.legend(fontsize=16, ncol=3, loc='upper right')\n",
    "ax_vel.tick_params(labelsize=14)\n",
    "\n",
    "# Plot angular velocity of each reaction wheel\n",
    "ax_rwvel.plot(data['t'], data['front_velocity'], label=r'$v_1$ (rad/s)', linewidth=4)\n",
    "ax_rwvel.plot(data['t'], data['back_velocity'], label=r'$v_2$ (rad/s)', linewidth=4)\n",
    "ax_rwvel.plot(data['t'], data['left_velocity'], label=r'$v_3$ (rad/s)', linewidth=4)\n",
    "ax_rwvel.plot(data['t'], data['right_velocity'], label=r'$v_4$ (rad/s)', linewidth=4)\n",
    "ax_rwvel.plot(\n",
    "    data['t'], np.ones_like(data['t']) * simulator.v_max,\n",
    "    ':', linewidth=4, color='C4', zorder=0,\n",
    ")\n",
    "ax_rwvel.plot(\n",
    "    data['t'], -np.ones_like(data['t']) * simulator.v_max,\n",
    "    ':', linewidth=4, color='C4', zorder=0,\n",
    ")\n",
    "ax_rwvel.grid()\n",
    "ax_rwvel.legend(fontsize=16, ncol=4, loc='upper right')\n",
    "ax_rwvel.tick_params(labelsize=14)\n",
    "ax_rwvel.set_ylim(-1.2 * simulator.v_max, 1.2 * simulator.v_max)\n",
    "\n",
    "# Plot torque applied to each reaction wheel\n",
    "ax_rwtau.plot(data['t'], data['front_torque'], label=r'$\\tau_1$ (N-m)', linewidth=4)\n",
    "ax_rwtau.plot(data['t'], data['back_torque'], label=r'$\\tau_2$ (N-m)', linewidth=4)\n",
    "ax_rwtau.plot(data['t'], data['left_torque'], label=r'$\\tau_3$ (N-m)', linewidth=4)\n",
    "ax_rwtau.plot(data['t'], data['right_torque'], label=r'$\\tau_4$ (N-m)', linewidth=4)\n",
    "ax_rwtau.plot(\n",
    "    data['t'], np.ones_like(data['t']) * simulator.tau_max,\n",
    "    ':', linewidth=4, color='C4', zorder=0,\n",
    ")\n",
    "ax_rwtau.plot(\n",
    "    data['t'], -np.ones_like(data['t']) * simulator.tau_max,\n",
    "    ':', linewidth=4, color='C4', zorder=0,\n",
    ")\n",
    "ax_rwtau.grid()\n",
    "ax_rwtau.legend(fontsize=16, ncol=4, loc='upper right')\n",
    "ax_rwtau.tick_params(labelsize=14)\n",
    "\n",
    "\n",
    "# Set x-axis properties (only need to do this on the last\n",
    "# subplot since all subplots share the same x-axis)\n",
    "ax_rwtau.set_xlabel('time (s)', fontsize=20)\n",
    "ax_rwtau.set_xlim([data['t'][0], data['t'][-1]])\n",
    "ax_rwtau.set_ylim(-1.2 * simulator.tau_max, 1.2 * simulator.tau_max)\n",
    "\n",
    "# Make the arrangement of subplots look nice\n",
    "fig.tight_layout()"
   ]
  },
  {
   "cell_type": "markdown",
   "id": "520822de",
   "metadata": {},
   "source": [
    "Save the figure (without transparent background)."
   ]
  },
  {
   "cell_type": "code",
   "execution_count": null,
   "id": "3ce3e7cd",
   "metadata": {},
   "outputs": [],
   "source": [
    "fig.savefig('my_figure.png', facecolor='white', transparent=False)"
   ]
  },
  {
   "cell_type": "markdown",
   "id": "0731f1e4",
   "metadata": {},
   "source": [
    "Plot star positions in image. This is not necessarily a useful thing to plot. The point is to show how to access measurements of star position from logged data."
   ]
  },
  {
   "cell_type": "code",
   "execution_count": null,
   "id": "f96cf2aa",
   "metadata": {},
   "outputs": [],
   "source": [
    "fig, ax = plt.subplots(1, 1, figsize=(9, 9))\n",
    "for i in range(len(simulator.stars)):\n",
    "    y = data['star_meas'][:, 2 * i]\n",
    "    z = data['star_meas'][:, 2 * i + 1]\n",
    "    ax.plot(-y, z, label=f'star {i}', linewidth=0.5, marker='.', markersize=10)\n",
    "ax.grid()\n",
    "ax.legend(fontsize=16)\n",
    "ax.tick_params(labelsize=14)\n",
    "ax.set_xlim(-1., 1.)\n",
    "ax.set_ylim(-1., 1.)"
   ]
  },
  {
   "cell_type": "code",
   "execution_count": null,
   "id": "ea2359fb",
   "metadata": {},
   "outputs": [],
   "source": []
  }
 ],
 "metadata": {
  "kernelspec": {
   "display_name": "Python 3",
   "langage": "python",
   "name": "python3"
  },
  "language_info": {
   "codemirror_mode": {
    "name": "ipython",
    "version": 3
   },
   "file_extension": ".py",
   "mimetype": "text/x-python",
   "name": "python",
   "nbconvert_exporter": "python",
   "pygments_lexer": "ipython3"
  }
 },
 "nbformat": 4,
 "nbformat_minor": 5
}
